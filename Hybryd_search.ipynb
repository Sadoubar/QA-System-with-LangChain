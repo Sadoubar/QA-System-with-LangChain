{
  "nbformat": 4,
  "nbformat_minor": 0,
  "metadata": {
    "colab": {
      "provenance": []
    },
    "kernelspec": {
      "name": "python3",
      "display_name": "Python 3"
    },
    "language_info": {
      "name": "python"
    }
  },
  "cells": [
    {
      "cell_type": "code",
      "execution_count": null,
      "metadata": {
        "colab": {
          "base_uri": "https://localhost:8080/"
        },
        "id": "8lNuwraAQqOt",
        "outputId": "24a14e77-c0cf-47c3-8184-73703bd6dc94"
      },
      "outputs": [
        {
          "output_type": "stream",
          "name": "stdout",
          "text": [
            "\u001b[?25l     \u001b[90m━━━━━━━━━━━━━━━━━━━━━━━━━━━━━━━━━━━━━━━━\u001b[0m \u001b[32m0.0/283.9 kB\u001b[0m \u001b[31m?\u001b[0m eta \u001b[36m-:--:--\u001b[0m\r\u001b[2K     \u001b[91m━━━━━━━━\u001b[0m\u001b[91m╸\u001b[0m\u001b[90m━━━━━━━━━━━━━━━━━━━━━━━━━━━━━━━\u001b[0m \u001b[32m61.4/283.9 kB\u001b[0m \u001b[31m1.6 MB/s\u001b[0m eta \u001b[36m0:00:01\u001b[0m\r\u001b[2K     \u001b[90m━━━━━━━━━━━━━━━━━━━━━━━━━━━━━━━━━━━━━━━━\u001b[0m \u001b[32m283.9/283.9 kB\u001b[0m \u001b[31m4.3 MB/s\u001b[0m eta \u001b[36m0:00:00\u001b[0m\n",
            "\u001b[?25h"
          ]
        }
      ],
      "source": [
        "!pip -q install langchain huggingface_hub openai google-search-results tiktoken chromadb rank_bm25 faiss-cpu pypdf\n"
      ]
    },
    {
      "cell_type": "code",
      "source": [
        "# importation des librairies\n",
        "from langchain.retrievers import BM25Retriever, EnsembleRetriever\n",
        "from langchain.text_splitter import RecursiveCharacterTextSplitter\n",
        "from langchain.document_loaders import PyPDFLoader\n",
        "from pprint import pprint\n",
        "import os\n",
        "from getpass import getpass\n",
        "from langchain.schema import Document\n",
        "from langchain.vectorstores import Chroma\n",
        "from langchain.embeddings import OpenAIEmbeddings"
      ],
      "metadata": {
        "id": "G8KgA7EMSsc0"
      },
      "execution_count": null,
      "outputs": []
    },
    {
      "cell_type": "code",
      "source": [
        "# configuration du mot de passe en variable d'environnement\n",
        "os.environ[\"OPENAI_API_KEY\"] = getpass()"
      ],
      "metadata": {
        "colab": {
          "base_uri": "https://localhost:8080/"
        },
        "id": "-kTvDEVTUirG",
        "outputId": "f48cad23-6da6-4a2f-a703-c25d04d587c1"
      },
      "execution_count": null,
      "outputs": [
        {
          "name": "stdout",
          "output_type": "stream",
          "text": [
            "··········\n"
          ]
        }
      ]
    },
    {
      "cell_type": "code",
      "source": [
        "# mis en place de l'enbedding\n",
        "Embedding = OpenAIEmbeddings()"
      ],
      "metadata": {
        "id": "tPilJJWdXQ8X"
      },
      "execution_count": null,
      "outputs": []
    },
    {
      "cell_type": "code",
      "source": [
        "# creation d'une liste pour test\n",
        "doc_list = [\n",
        "    \"J'apprécie les fruits frais comme les pommes et les poires\",\n",
        "    \"Les agrumes comme les oranges et les citrons sont riches en vitamine C\",\n",
        "    \"La technologie d'Apple, telle que les iPhone et les MacBook, est très populaire\",\n",
        "    \"Je préfère boire du jus d'orange frais le matin\",\n",
        "    \"Les salades de fruits sont délicieuses pendant l'été\",\n",
        "    \"Le système d'exploitation macOS est développé par Apple\",\n",
        "    \"Les smoothies aux fruits sont à la fois nutritifs et rafraîchissants\",\n",
        "    \"Mon fruit préféré est la mangue\",\n",
        "    \"Je vais au marché pour acheter des fruits biologiques\",\n",
        "    \"Les ordinateurs Apple sont souvent utilisés par les professionnels créatifs\"\n",
        "]\n"
      ],
      "metadata": {
        "id": "kW1TE6VUXVuF"
      },
      "execution_count": null,
      "outputs": []
    },
    {
      "cell_type": "code",
      "source": [
        "# BM25 est souvent utilisé dans les systèmes de recherche d'information et les moteurs de recherche pour évaluer la pertinence d'un document par rapport à une requête de l'utilisateur.\n",
        "bm25_retriver = BM25Retriever.from_texts(doc_list)\n",
        "bm25_retriver.k=2"
      ],
      "metadata": {
        "id": "7AVF-cVDXdF2"
      },
      "execution_count": null,
      "outputs": []
    },
    {
      "cell_type": "code",
      "source": [
        "\n",
        "vectorstore = Chroma.from_texts(doc_list,embedding=Embedding)"
      ],
      "metadata": {
        "id": "2-akAVJ4atRq"
      },
      "execution_count": null,
      "outputs": []
    },
    {
      "cell_type": "code",
      "source": [
        "\n",
        "retriver_vector = vectorstore.as_retriever(search_kwargs={\"k\":2})"
      ],
      "metadata": {
        "id": "3lXMPaDHbLAZ"
      },
      "execution_count": null,
      "outputs": []
    },
    {
      "cell_type": "code",
      "source": [
        "bm25_retriver.get_relevant_documents(\"chercher une pomme pour faire un desert\")"
      ],
      "metadata": {
        "colab": {
          "base_uri": "https://localhost:8080/"
        },
        "id": "u0y1JsGIX6mn",
        "outputId": "fdbe39e7-087c-4692-d577-268fe972e610"
      },
      "execution_count": null,
      "outputs": [
        {
          "output_type": "execute_result",
          "data": {
            "text/plain": [
              "[Document(page_content='Je vais au marché pour acheter des fruits biologiques'),\n",
              " Document(page_content='Les ordinateurs Apple sont souvent utilisés par les professionnels créatifs')]"
            ]
          },
          "metadata": {},
          "execution_count": 158
        }
      ]
    },
    {
      "cell_type": "code",
      "source": [
        "retriver_vector.get_relevant_documents(\" achete un nouveau PC\")"
      ],
      "metadata": {
        "colab": {
          "base_uri": "https://localhost:8080/"
        },
        "id": "h9qiS0TAbgYJ",
        "outputId": "b9c07f0c-5ea1-4874-bde1-51e73d8e8851"
      },
      "execution_count": null,
      "outputs": [
        {
          "output_type": "execute_result",
          "data": {
            "text/plain": [
              "[Document(page_content='Les ordinateurs Apple sont souvent utilisés par les professionnels créatifs'),\n",
              " Document(page_content='Les ordinateurs Apple sont souvent utilisés par les professionnels créatifs')]"
            ]
          },
          "metadata": {},
          "execution_count": 161
        }
      ]
    },
    {
      "cell_type": "code",
      "source": [
        "ensemble_retriver = EnsembleRetriever(retrievers=[retriver_vector,bm25_retriver],weights=[0.5,0.5])"
      ],
      "metadata": {
        "id": "abf0ZmTEYYBo"
      },
      "execution_count": null,
      "outputs": []
    },
    {
      "cell_type": "code",
      "source": [
        "ensemble_retriver.get_relevant_documents(\"la radio\")"
      ],
      "metadata": {
        "colab": {
          "base_uri": "https://localhost:8080/"
        },
        "id": "LaiLE7d1cSOL",
        "outputId": "80afeab9-9b2d-4dc3-a1cd-bb263be74a4b"
      },
      "execution_count": null,
      "outputs": [
        {
          "output_type": "execute_result",
          "data": {
            "text/plain": [
              "[Document(page_content=\"La technologie d'Apple, telle que les iPhone et les MacBook, est très populaire\"),\n",
              " Document(page_content='Mon fruit préféré est la mangue'),\n",
              " Document(page_content='Les smoothies aux fruits sont à la fois nutritifs et rafraîchissants')]"
            ]
          },
          "metadata": {},
          "execution_count": 163
        }
      ]
    },
    {
      "cell_type": "code",
      "source": [
        "## Guide des aides à la Renovation\n",
        "#https://france-renov.gouv.fr/guide-aides-financieres-2024"
      ],
      "metadata": {
        "id": "FpHI9UXscYvf"
      },
      "execution_count": 1,
      "outputs": []
    },
    {
      "cell_type": "code",
      "source": [
        "path = \"/content/Guide des aides rénovation 2024 (1).pdf\"\n",
        "from pypdf import PdfReader"
      ],
      "metadata": {
        "id": "WZEgwiOoeN1w"
      },
      "execution_count": null,
      "outputs": []
    },
    {
      "cell_type": "code",
      "source": [
        "doc_reader = PdfReader(path)"
      ],
      "metadata": {
        "id": "zh62pjJ3f8OB"
      },
      "execution_count": null,
      "outputs": []
    },
    {
      "cell_type": "code",
      "source": [
        "## load the document\n",
        "loader= PyPDFLoader(path)\n",
        "data = loader.load()"
      ],
      "metadata": {
        "id": "kb7Eb-ErhCYb"
      },
      "execution_count": null,
      "outputs": []
    },
    {
      "cell_type": "code",
      "source": [
        "# Splitting up the text into smaller chunks for indexing\n",
        "text_spliter = RecursiveCharacterTextSplitter(separators=\"\\n\", chunk_size=1000,chunk_overlap=200,length_function= len)\n",
        "text = text_spliter.split_documents(data)"
      ],
      "metadata": {
        "id": "biXQvonJh70V"
      },
      "execution_count": null,
      "outputs": []
    },
    {
      "cell_type": "code",
      "source": [
        "len(text)"
      ],
      "metadata": {
        "colab": {
          "base_uri": "https://localhost:8080/"
        },
        "id": "rQfphxlqh9z8",
        "outputId": "5eb6fae5-ac9b-4c99-e85b-a37cc3eed13b"
      },
      "execution_count": null,
      "outputs": [
        {
          "output_type": "execute_result",
          "data": {
            "text/plain": [
              "169"
            ]
          },
          "metadata": {},
          "execution_count": 172
        }
      ]
    },
    {
      "cell_type": "code",
      "source": [
        "# intialisation\n",
        "bm25_retriver = BM25Retriever.from_documents(text)\n",
        "bm25_retriver.k = 2"
      ],
      "metadata": {
        "id": "x3TyV1DGjdTR"
      },
      "execution_count": null,
      "outputs": []
    },
    {
      "cell_type": "code",
      "source": [
        "bm25_retriver.get_relevant_documents(\"montant de l'aide pour de la pompe à chaleur air/eau\")"
      ],
      "metadata": {
        "colab": {
          "base_uri": "https://localhost:8080/"
        },
        "id": "54HyoBcQkDyL",
        "outputId": "1f327312-9b43-41ce-dd38-e5cf6aaabb22"
      },
      "execution_count": null,
      "outputs": [
        {
          "output_type": "execute_result",
          "data": {
            "text/plain": [
              "[Document(page_content='sification européenne).Pour obtenir une aide liée au dispositif des \\nCEE, le COP doit être supérieur à 2,5 pour \\nune installation sur air extrait et 2,4 dans les \\nautres cas.\\nDans le cas d’une pompe à chaleur air/eau \\ncomportant un dispositif d’appoint utilisant \\nun combustible liquide ou gazeux et une \\nrégulation qui les pilote, le taux de couverture \\nde la pompe à chaleur hors dispositif d’ap -\\npoint est supérieur ou égal à 70 %. \\nLes chauffe-eau et le chauffage solaire \\nLes équipements de chauffage ou d’eau \\nchaude sanitaire fonctionnant à l’énergie \\nsolaire doivent être dotés de capteurs solaires \\ndisposant d’une certification CSTBat ou de la \\ncertification Solar Keymark ou équivalente. \\nLes capteurs peuvent être thermiques (à air \\nou à circulation d’eau ou d’eau glycolée) ou \\nhybrides thermiques et électriques à circu -\\nlation d’eau ou d’eau glycolée. Les critères \\nde performance de l’équipement (valeurs à \\nrespecter indiquées ci-dessous) sont calculés', metadata={'source': '/content/Guide des aides rénovation 2024 (1).pdf', 'page': 48}),\n",
              " Document(page_content='ÉQUIPEMENTS ET MATÉRIAUX ÉLIGIBLES \\nCHAUFFAGE ET EAU CHAUDE SANITAIRE\\nRaccordement à un réseau de chaleur et/ou de froid\\nChauffe-eau thermodynamique\\nPompe à chaleur air/eau (dont PAC hybrides)\\nPompe à chaleur géothermique ou solarothermique (dont PAC hybrides) \\nChauffe-eau solaire individuel (et dispositifs solaires pour le chauffage de l’eau)\\nSystème solaire combiné (et dispositifs solaires pour le chauffage des locaux)\\nPartie thermique d’un équipement PVT eau (système hybride photovoltaïque et thermique)\\nPoêle à bûches et cuisinière à bûches \\nPoêle à granulés et cuisinière à granulés \\nChaudière bois à alimentation manuelle\\nChaudière bois à alimentation automatique\\nFoyer fermé et insert à bûches ou à granulés \\nSauf dérogation, l’éligibilité à la prime  \\nest conditionnée à un dépôt du dossier  \\nde demande de subvention avant le \\ndémarrage des travaux. Cependant, en cas \\nde travaux urgents (risque manifeste pour  \\nla santé ou la sécurité des personnes)', metadata={'source': '/content/Guide des aides rénovation 2024 (1).pdf', 'page': 12})]"
            ]
          },
          "metadata": {},
          "execution_count": 174
        }
      ]
    },
    {
      "cell_type": "code",
      "source": [
        "vector_store = Chroma.from_documents(data,embedding=Embedding)"
      ],
      "metadata": {
        "id": "-OKm5-YakO9a"
      },
      "execution_count": null,
      "outputs": []
    },
    {
      "cell_type": "code",
      "source": [
        "from re import search\n",
        "retriver_vector = vector_store.as_retriever(search_kwargs={\"k\":2})"
      ],
      "metadata": {
        "id": "oCwh0pGQlr8h"
      },
      "execution_count": null,
      "outputs": []
    },
    {
      "cell_type": "code",
      "source": [
        "retriver_vector.get_relevant_documents(\"montant de l'aide pour de la pompe à chaleur air/eau\")"
      ],
      "metadata": {
        "colab": {
          "base_uri": "https://localhost:8080/"
        },
        "id": "gPVUs4Rql1qH",
        "outputId": "7760e4c3-bf29-4040-b7e3-e219b8fd5130"
      },
      "execution_count": null,
      "outputs": [
        {
          "output_type": "execute_result",
          "data": {
            "text/plain": [
              "[Document(page_content='PLAFONNEMENT DES DÉPENSES ÉLIGIBLES \\n La dépense éligible correspond au coût du matériel, pose comprise. Le montant ne tient pas compte des remises, \\nristournes ou rabais proposés par les entreprises. \\nÉQUIPEMENTS ET MATÉRIAUX ÉLIGIBLESPLAFOND DE DÉPENSE \\nÉLIGIBLE*\\nCHAUFFAGE ET EAU CHAUDE SANITAIRE\\nRaccordement à un réseau de chaleur et/ou de froid 1 800 €\\nChauffe-eau thermodynamique 3 500 €\\nPompe à chaleur air/eau (dont PAC hybrides) 12 000 €\\nPompe à chaleur géothermique ou solarothermique (dont PAC hybrides) 18 000 €\\nChauffe-eau solaire individuel et dispositifs solaires pour \\nle chauffage de l’eau (dont appoint)7 000 €\\nSystème solaire combiné et dispositifs solaires pour \\nle chauffage des locaux (dont appoint) en Métropole16 000 €\\nPartie thermique d’un équipement PVT eau  \\n(système hybride photovoltaïque et thermique)4 000 €\\nPoêle à bûches et cuisinière à bûches 4 000 €\\nPoêle à granulés et cuisinière à granulés 5 000 €\\nChaudière bois à alimentation manuelle (bûches) 16 000 €\\nChaudière bois à alimentation automatique (granulés, plaquettes) 18 000 €\\nFoyer fermé, insert à bûches ou granulés 4 000 €\\nISOLATION THERMIQUE\\nIsolation thermique des murs par l’extérieur 150 €/m²\\nIsolation thermique des murs par l’intérieur 70 €/m²\\nIsolation thermique des rampants de toiture ou des plafonds de combles 75 €/m²\\nIsolation thermique des toitures terrasses 180 €/m²\\nIsolation thermique des parois vitrées  \\n(fenêtres et portes-fenêtres) en remplacement de simple vitrage1 000 €/ \\néquipement\\nProtection des parois vitrées ou opaques contre le rayonnement solaire 200 €/m²\\nAUTRES TRAVAUX\\nAudit énergétique hors obligation réglementaire 800 €\\nDépose de cuve à fioul 4 000 €\\nVentilation double flux 6 000 €\\nLes aides financières en 2024\\n16', metadata={'page': 16, 'source': '/content/Guide des aides rénovation 2024 (1).pdf'}),\n",
              " Document(page_content='PLAFONNEMENT DES DÉPENSES ÉLIGIBLES \\n La dépense éligible correspond au coût du matériel, pose comprise. Le montant ne tient pas compte des remises, \\nristournes ou rabais proposés par les entreprises. \\nÉQUIPEMENTS ET MATÉRIAUX ÉLIGIBLESPLAFOND DE DÉPENSE \\nÉLIGIBLE*\\nCHAUFFAGE ET EAU CHAUDE SANITAIRE\\nRaccordement à un réseau de chaleur et/ou de froid 1 800 €\\nChauffe-eau thermodynamique 3 500 €\\nPompe à chaleur air/eau (dont PAC hybrides) 12 000 €\\nPompe à chaleur géothermique ou solarothermique (dont PAC hybrides) 18 000 €\\nChauffe-eau solaire individuel et dispositifs solaires pour \\nle chauffage de l’eau (dont appoint)7 000 €\\nSystème solaire combiné et dispositifs solaires pour \\nle chauffage des locaux (dont appoint) en Métropole16 000 €\\nPartie thermique d’un équipement PVT eau  \\n(système hybride photovoltaïque et thermique)4 000 €\\nPoêle à bûches et cuisinière à bûches 4 000 €\\nPoêle à granulés et cuisinière à granulés 5 000 €\\nChaudière bois à alimentation manuelle (bûches) 16 000 €\\nChaudière bois à alimentation automatique (granulés, plaquettes) 18 000 €\\nFoyer fermé, insert à bûches ou granulés 4 000 €\\nISOLATION THERMIQUE\\nIsolation thermique des murs par l’extérieur 150 €/m²\\nIsolation thermique des murs par l’intérieur 70 €/m²\\nIsolation thermique des rampants de toiture ou des plafonds de combles 75 €/m²\\nIsolation thermique des toitures terrasses 180 €/m²\\nIsolation thermique des parois vitrées  \\n(fenêtres et portes-fenêtres) en remplacement de simple vitrage1 000 €/ \\néquipement\\nProtection des parois vitrées ou opaques contre le rayonnement solaire 200 €/m²\\nAUTRES TRAVAUX\\nAudit énergétique hors obligation réglementaire 800 €\\nDépose de cuve à fioul 4 000 €\\nVentilation double flux 6 000 €\\nLes aides financières en 2024\\n16', metadata={'page': 16, 'source': '/content/Guide des aides rénovation 2024 (1).pdf'})]"
            ]
          },
          "metadata": {},
          "execution_count": 177
        }
      ]
    },
    {
      "cell_type": "code",
      "source": [
        "# ensemble retriver\n",
        "ensemble_retriver = EnsembleRetriever(retrievers=[retriver_vector,bm25_retriver],weights=[0.5,0.5])"
      ],
      "metadata": {
        "id": "j54oT4epnJHe"
      },
      "execution_count": null,
      "outputs": []
    },
    {
      "cell_type": "code",
      "source": [
        "ensemble_retriver.get_relevant_documents(\"montant de l'aide pour de la pompe à chaleur air/eau\")"
      ],
      "metadata": {
        "colab": {
          "base_uri": "https://localhost:8080/"
        },
        "id": "sSyMFQLPnpPI",
        "outputId": "83cf0fc7-8401-4c0a-b010-6962243c1a38"
      },
      "execution_count": null,
      "outputs": [
        {
          "output_type": "execute_result",
          "data": {
            "text/plain": [
              "[Document(page_content='PLAFONNEMENT DES DÉPENSES ÉLIGIBLES \\n La dépense éligible correspond au coût du matériel, pose comprise. Le montant ne tient pas compte des remises, \\nristournes ou rabais proposés par les entreprises. \\nÉQUIPEMENTS ET MATÉRIAUX ÉLIGIBLESPLAFOND DE DÉPENSE \\nÉLIGIBLE*\\nCHAUFFAGE ET EAU CHAUDE SANITAIRE\\nRaccordement à un réseau de chaleur et/ou de froid 1 800 €\\nChauffe-eau thermodynamique 3 500 €\\nPompe à chaleur air/eau (dont PAC hybrides) 12 000 €\\nPompe à chaleur géothermique ou solarothermique (dont PAC hybrides) 18 000 €\\nChauffe-eau solaire individuel et dispositifs solaires pour \\nle chauffage de l’eau (dont appoint)7 000 €\\nSystème solaire combiné et dispositifs solaires pour \\nle chauffage des locaux (dont appoint) en Métropole16 000 €\\nPartie thermique d’un équipement PVT eau  \\n(système hybride photovoltaïque et thermique)4 000 €\\nPoêle à bûches et cuisinière à bûches 4 000 €\\nPoêle à granulés et cuisinière à granulés 5 000 €\\nChaudière bois à alimentation manuelle (bûches) 16 000 €\\nChaudière bois à alimentation automatique (granulés, plaquettes) 18 000 €\\nFoyer fermé, insert à bûches ou granulés 4 000 €\\nISOLATION THERMIQUE\\nIsolation thermique des murs par l’extérieur 150 €/m²\\nIsolation thermique des murs par l’intérieur 70 €/m²\\nIsolation thermique des rampants de toiture ou des plafonds de combles 75 €/m²\\nIsolation thermique des toitures terrasses 180 €/m²\\nIsolation thermique des parois vitrées  \\n(fenêtres et portes-fenêtres) en remplacement de simple vitrage1 000 €/ \\néquipement\\nProtection des parois vitrées ou opaques contre le rayonnement solaire 200 €/m²\\nAUTRES TRAVAUX\\nAudit énergétique hors obligation réglementaire 800 €\\nDépose de cuve à fioul 4 000 €\\nVentilation double flux 6 000 €\\nLes aides financières en 2024\\n16', metadata={'page': 16, 'source': '/content/Guide des aides rénovation 2024 (1).pdf'}),\n",
              " Document(page_content='sification européenne).Pour obtenir une aide liée au dispositif des \\nCEE, le COP doit être supérieur à 2,5 pour \\nune installation sur air extrait et 2,4 dans les \\nautres cas.\\nDans le cas d’une pompe à chaleur air/eau \\ncomportant un dispositif d’appoint utilisant \\nun combustible liquide ou gazeux et une \\nrégulation qui les pilote, le taux de couverture \\nde la pompe à chaleur hors dispositif d’ap -\\npoint est supérieur ou égal à 70 %. \\nLes chauffe-eau et le chauffage solaire \\nLes équipements de chauffage ou d’eau \\nchaude sanitaire fonctionnant à l’énergie \\nsolaire doivent être dotés de capteurs solaires \\ndisposant d’une certification CSTBat ou de la \\ncertification Solar Keymark ou équivalente. \\nLes capteurs peuvent être thermiques (à air \\nou à circulation d’eau ou d’eau glycolée) ou \\nhybrides thermiques et électriques à circu -\\nlation d’eau ou d’eau glycolée. Les critères \\nde performance de l’équipement (valeurs à \\nrespecter indiquées ci-dessous) sont calculés', metadata={'source': '/content/Guide des aides rénovation 2024 (1).pdf', 'page': 48}),\n",
              " Document(page_content='ÉQUIPEMENTS ET MATÉRIAUX ÉLIGIBLES \\nCHAUFFAGE ET EAU CHAUDE SANITAIRE\\nRaccordement à un réseau de chaleur et/ou de froid\\nChauffe-eau thermodynamique\\nPompe à chaleur air/eau (dont PAC hybrides)\\nPompe à chaleur géothermique ou solarothermique (dont PAC hybrides) \\nChauffe-eau solaire individuel (et dispositifs solaires pour le chauffage de l’eau)\\nSystème solaire combiné (et dispositifs solaires pour le chauffage des locaux)\\nPartie thermique d’un équipement PVT eau (système hybride photovoltaïque et thermique)\\nPoêle à bûches et cuisinière à bûches \\nPoêle à granulés et cuisinière à granulés \\nChaudière bois à alimentation manuelle\\nChaudière bois à alimentation automatique\\nFoyer fermé et insert à bûches ou à granulés \\nSauf dérogation, l’éligibilité à la prime  \\nest conditionnée à un dépôt du dossier  \\nde demande de subvention avant le \\ndémarrage des travaux. Cependant, en cas \\nde travaux urgents (risque manifeste pour  \\nla santé ou la sécurité des personnes)', metadata={'source': '/content/Guide des aides rénovation 2024 (1).pdf', 'page': 12})]"
            ]
          },
          "metadata": {},
          "execution_count": 179
        }
      ]
    },
    {
      "cell_type": "code",
      "source": [
        "\n",
        "from langchain.chains.question_answering import load_qa_chain\n",
        "from langchain.chat_models import ChatOpenAI\n",
        "from langchain_core.output_parsers import StrOutputParser\n",
        "from langchain_core.prompts import ChatPromptTemplate\n",
        "from langchain_core.runnables import RunnablePassthrough"
      ],
      "metadata": {
        "id": "1E-YwpPhn-jJ"
      },
      "execution_count": null,
      "outputs": []
    },
    {
      "cell_type": "code",
      "source": [
        "llm = ChatOpenAI(model=\"gpt-4\",max_tokens=300,temperature=0.2)"
      ],
      "metadata": {
        "id": "fCwCpmVopcjm"
      },
      "execution_count": null,
      "outputs": []
    },
    {
      "cell_type": "code",
      "source": [
        "renovation_template = \"\"\"\n",
        "Vous êtes un spécialiste des aides à la rénovation qui s'appuie sur des connaissances approfondies des réglementations et des programmes d'assistance en France.\n",
        "Utilisez le contexte fourni comme base pour vos réponses et ne déviez pas vers de nouveaux chemins de raisonnement -\n",
        "contentez-vous d'associer ce que vous savez déjà.\n",
        "Vos réponses doivent être concises et précises, et se limiter exclusivement aux sujets des aides à la rénovation et des dispositifs associés tels que ceux proposés par l'ANAH.\n",
        "\n",
        "Donne egalement la source de tes réponses, la page de tes sources exemple:\n",
        "quel sont les aides pour installer une pompe a chaleur air/eau ?\n",
        "Le montant des aides pour l'installation d'une pompe à chaleur air/eau dépend des ressources du ménage. Pour les ménages aux ressources très modestes, l'aide est de 5 000 €. Pour les ménages aux ressources modestes, l'aide est de 4 000 €. Pour les ménages aux ressources intermédiaires, l'aide est de 3 000 €. Les ménages aux ressources supérieures ne sont pas éligibles à cette aide.\n",
        "\n",
        "\n",
        "Source : Document 1, page 14, Guide des aides rénovation 2024.\n",
        "\n",
        "CONTEXTE :\n",
        "{context}\n",
        "\n",
        "QUESTION : {question}\n",
        "\n",
        "VOTRE RÉPONSE :\"\"\"\n",
        "\n",
        "renovation_prompt = ChatPromptTemplate.from_template(renovation_template)\n",
        "\n",
        "\n",
        "chain = (\n",
        "    {\"context\": ensemble_retriver, \"question\": RunnablePassthrough()}\n",
        "    | renovation_prompt\n",
        "    | llm\n",
        "    | StrOutputParser()\n",
        ")\n"
      ],
      "metadata": {
        "id": "sSH11-M8pipk"
      },
      "execution_count": null,
      "outputs": []
    },
    {
      "cell_type": "code",
      "source": [
        "print(chain.invoke(\"quelles sont les aides pour installer une pompe a chaleur eau/eau\"))"
      ],
      "metadata": {
        "colab": {
          "base_uri": "https://localhost:8080/"
        },
        "id": "kq0xs3-uzlXY",
        "outputId": "6fe84453-1d19-4318-ab28-0c35c11ee919"
      },
      "execution_count": null,
      "outputs": [
        {
          "output_type": "stream",
          "name": "stdout",
          "text": [
            "Le montant des aides pour l'installation d'une pompe à chaleur eau/eau dépend des ressources du ménage. Pour les ménages aux ressources très modestes, l'aide est de 5 000 €. Pour les ménages aux ressources modestes, l'aide est de 4 000 €. Pour les ménages aux ressources intermédiaires, l'aide est de 3 000 €. Les ménages aux ressources supérieures ne sont pas éligibles à cette aide.\n",
            "\n",
            "Source : Document 1, page 48, Guide des aides rénovation 2024.\n"
          ]
        }
      ]
    },
    {
      "cell_type": "code",
      "source": [
        "print(chain.invoke(\"quelles sont les conditions a respecter pour beneficier des aides pour une pompe à chaleur air/eau\"))"
      ],
      "metadata": {
        "colab": {
          "base_uri": "https://localhost:8080/"
        },
        "id": "AvK--HUvzy2T",
        "outputId": "6dac0709-a625-4d10-ecfd-08814dd539d6"
      },
      "execution_count": null,
      "outputs": [
        {
          "output_type": "stream",
          "name": "stdout",
          "text": [
            "Pour bénéficier des aides pour une pompe à chaleur air/eau, plusieurs conditions doivent être respectées :\n",
            "\n",
            "1. La pompe à chaleur doit avoir une efficacité énergétique saisonnière pour le chauffage, calculée avec son appoint électrique ou à combustible fossile, supérieure ou égale à 126% si elle fonctionne à basse température, ou supérieure ou égale à 111% si elle fonctionne à moyenne et haute température.\n",
            "\n",
            "2. Si la pompe à chaleur air/eau comporte un dispositif d'appoint utilisant un combustible liquide ou gazeux et une régulation qui les pilote, le taux de couverture de la pompe à chaleur hors dispositif d'appoint doit être supérieur ou égal à 70%.\n",
            "\n",
            "3. Les travaux doivent permettre d'améliorer la performance énergétique du logement et respecter des exigences de performances minimales.\n",
            "\n",
            "4. Les travaux doivent être réalisés par un professionnel RGE (Reconnu Garant de l'Environnement).\n",
            "\n",
            "Sources : Document 1, page 48, Guide des aides rénovation 2024 ; Document 3, page 27, Guide des aides rénovation 2024.\n"
          ]
        }
      ]
    },
    {
      "cell_type": "code",
      "source": [
        "print(chain.invoke(\"quel est le plafond de dépenses éligible pour installer un réseau de chaleur\"))"
      ],
      "metadata": {
        "colab": {
          "base_uri": "https://localhost:8080/"
        },
        "id": "dXnRbhG502uQ",
        "outputId": "3531d8a7-8fee-4592-c409-e2a5b227c6bd"
      },
      "execution_count": null,
      "outputs": [
        {
          "output_type": "stream",
          "name": "stdout",
          "text": [
            "Le plafond de dépenses éligibles pour l'installation d'un réseau de chaleur est de 1 800 €.\n",
            "\n",
            "Source : Document 1, page 16, Guide des aides rénovation 2024.\n"
          ]
        }
      ]
    },
    {
      "cell_type": "code",
      "source": [
        "# ALLUCINATION DU MODEL\n",
        "print(chain.invoke(\" l'installation d'une chaudière au gaz peut il beneficer des aides de l'ANAH \"))"
      ],
      "metadata": {
        "colab": {
          "base_uri": "https://localhost:8080/"
        },
        "id": "Na60mzEg5dDA",
        "outputId": "1b213310-9c3b-4439-909f-3a457c48f5d6"
      },
      "execution_count": null,
      "outputs": [
        {
          "output_type": "stream",
          "name": "stdout",
          "text": [
            "Oui, l'installation d'une chaudière au gaz peut bénéficier des aides de l'ANAH, à condition que celle-ci remplace une chaudière au charbon, au fioul ou au gaz autre qu'à condensation. Le nouvel équipement doit utiliser des énergies renouvelables. Les travaux doivent être réalisés par un professionnel RGE et respecter des exigences de performances minimales.\n",
            "\n",
            "Source : Document 1, page 27, Guide des aides rénovation 2024.\n"
          ]
        }
      ]
    },
    {
      "cell_type": "code",
      "source": [
        "# la bonne réponse dépend de la facon dont la question est posée\n",
        "print(chain.invoke(\" les chaudieres au gaz qui utlisent donc une energie non renouvelables sont elles exclues des aides \"))"
      ],
      "metadata": {
        "colab": {
          "base_uri": "https://localhost:8080/"
        },
        "id": "uP_FPxlCBfZI",
        "outputId": "f23c3d95-6498-41fc-a55e-567e6880e0ee"
      },
      "execution_count": null,
      "outputs": [
        {
          "output_type": "stream",
          "name": "stdout",
          "text": [
            "Oui, les chaudières au gaz qui utilisent une énergie non renouvelable sont exclues des aides. Les aides sont destinées au remplacement d'une chaudière au charbon, au fioul ou au gaz (autres qu'à condensation) par un équipement utilisant des énergies renouvelables.\n",
            "\n",
            "Source : Document 3, page 27, Guide des aides rénovation 2024.\n"
          ]
        }
      ]
    },
    {
      "cell_type": "code",
      "source": [
        "print(chain.invoke(\"comment contacter un conseiller France Renov\"))"
      ],
      "metadata": {
        "colab": {
          "base_uri": "https://localhost:8080/"
        },
        "id": "thbZbHXh7ZvT",
        "outputId": "f5aba531-d1c5-41a0-edf0-c2a5aa4fcf28"
      },
      "execution_count": null,
      "outputs": [
        {
          "output_type": "stream",
          "name": "stdout",
          "text": [
            "Pour contacter un conseiller France Rénov', vous pouvez vous rendre sur le site internet france-renov.gouv.fr ou appeler le numéro 0 808 800 700.\n",
            "\n",
            "Source : Document 2, page 61, Guide des aides rénovation 2024.\n"
          ]
        }
      ]
    },
    {
      "cell_type": "markdown",
      "source": [
        "plus de ressources:\n",
        "\n",
        "https://www.youtube.com/watch?v=dUkiQ_WI92c&t=807s\n",
        "\n",
        "https://www.youtube.com/watch?v=lYxGYXjfrNI\n",
        "\n",
        "https://python.langchain.com/docs/integrations/vectorstores/astradb\n",
        "\n",
        "https://france-renov.gouv.fr/guide-aides-financieres-2024"
      ],
      "metadata": {
        "id": "PAdZrBOn0gvb"
      }
    },
    {
      "cell_type": "code",
      "source": [],
      "metadata": {
        "id": "YNErNzuk9ss5"
      },
      "execution_count": null,
      "outputs": []
    }
  ]
}